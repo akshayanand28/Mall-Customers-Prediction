{
 "cells": [
  {
   "cell_type": "markdown",
   "metadata": {},
   "source": [
    "# K Means Clustering"
   ]
  },
  {
   "cell_type": "markdown",
   "metadata": {},
   "source": [
    "### Dataset: Mall Dataset\n",
    "### Number of attributes: 5\n",
    "### Number of instances: 200"
   ]
  },
  {
   "cell_type": "code",
   "execution_count": 11,
   "metadata": {},
   "outputs": [],
   "source": [
    "import pandas as pd\n",
    "import numpy as np\n",
    "import matplotlib.pyplot as plt"
   ]
  },
  {
   "cell_type": "code",
   "execution_count": 12,
   "metadata": {
    "scrolled": false
   },
   "outputs": [],
   "source": [
    "ds = pd.read_csv(\"Mall_Customers.csv\")\n"
   ]
  },
  {
   "cell_type": "markdown",
   "metadata": {},
   "source": [
    "### Data Preprocessing"
   ]
  },
  {
   "cell_type": "code",
   "execution_count": 13,
   "metadata": {},
   "outputs": [
    {
     "data": {
      "text/plain": [
       "False"
      ]
     },
     "execution_count": 13,
     "metadata": {},
     "output_type": "execute_result"
    }
   ],
   "source": [
    "ds.isnull().values.any()"
   ]
  },
  {
   "cell_type": "markdown",
   "metadata": {},
   "source": [
    "### Normalization of Data"
   ]
  },
  {
   "cell_type": "code",
   "execution_count": 14,
   "metadata": {},
   "outputs": [],
   "source": [
    "ds['CustomerID']=ds['CustomerID']/200\n",
    "ds['Age']=(ds['Age']-ds['Age'].mean())/(ds['Age'].std())\n",
    "ds['AnnualIncome']=(ds['AnnualIncome']-ds['AnnualIncome'].mean())/(ds['AnnualIncome'].std())\n",
    "ds['SpendingScore']=(ds['SpendingScore']-ds['SpendingScore'].mean())/(ds['SpendingScore'].std())\n",
    "ds=ds.replace('M',0)\n",
    "ds=ds.replace('F',1)"
   ]
  },
  {
   "cell_type": "code",
   "execution_count": 15,
   "metadata": {},
   "outputs": [],
   "source": [
    "X = np.array([ds['CustomerID'],ds['Gender'],ds['Age'],ds['AnnualIncome'],ds['SpendingScore']])"
   ]
  },
  {
   "cell_type": "code",
   "execution_count": 16,
   "metadata": {},
   "outputs": [
    {
     "name": "stdout",
     "output_type": "stream",
     "text": [
      "(5, 200)\n",
      "(200, 5)\n"
     ]
    }
   ],
   "source": [
    "print(np.shape(X))\n",
    "X = X.T\n",
    "print(np.shape(X))\n",
    "X=np.matrix(X)"
   ]
  },
  {
   "cell_type": "markdown",
   "metadata": {},
   "source": [
    "### Function to calculate Euclidean Distance\n",
    "Euclidean distance is used as a distance measure for the algorithm."
   ]
  },
  {
   "cell_type": "code",
   "execution_count": 17,
   "metadata": {},
   "outputs": [],
   "source": [
    "def computeDistance(x1,x2):\n",
    "    d=np.sqrt(np.sum(np.power((x1-x2),2)))\n",
    "    return d"
   ]
  },
  {
   "cell_type": "markdown",
   "metadata": {},
   "source": [
    "### Random Initialization of centroids among the samples"
   ]
  },
  {
   "cell_type": "code",
   "execution_count": 19,
   "metadata": {},
   "outputs": [],
   "source": [
    "def randomInit(X,no_of_clusters,no_of_samples,nof):\n",
    "    centroids = []\n",
    "    for i in range(no_of_clusters):\n",
    "        temp = np.random.randint(0,no_of_samples)\n",
    "        tempcents = []\n",
    "        for j in range(nof):\n",
    "            tempcents.append(X[temp,j])\n",
    "        centroids.append(tempcents)\n",
    "    centroids = np.matrix(centroids)\n",
    "    return centroids"
   ]
  },
  {
   "cell_type": "markdown",
   "metadata": {},
   "source": [
    "### Label / Assign the given data sample to the nearest centroid\n",
    "Every data sample point is assigned to the nearest centroid determined by Euclidean Distance."
   ]
  },
  {
   "cell_type": "code",
   "execution_count": 20,
   "metadata": {},
   "outputs": [],
   "source": [
    "def labelling(x,centroids):\n",
    "    distances = {}\n",
    "    for i in range(len(centroids)):\n",
    "        distances[computeDistance(x,centroids[i,:])] = i\n",
    "    return distances[min(distances.keys())]"
   ]
  },
  {
   "cell_type": "markdown",
   "metadata": {},
   "source": [
    "### Assign centroids for all data samples"
   ]
  },
  {
   "cell_type": "code",
   "execution_count": 21,
   "metadata": {},
   "outputs": [],
   "source": [
    "def clusterAssignment(X,clusters,centroids):\n",
    "    for i in range(len(X)):\n",
    "        clusters[i] = labelling(X[i,:],centroids)\n",
    "    return clusters"
   ]
  },
  {
   "cell_type": "markdown",
   "metadata": {},
   "source": [
    "The mean of all the points(data samples) assigned to a particular centroid is computed.\n",
    "\n",
    "The mean is then set as the new Centroid."
   ]
  },
  {
   "cell_type": "code",
   "execution_count": 22,
   "metadata": {},
   "outputs": [],
   "source": [
    "def updateCentroid(X,clusters,centroids,nof):\n",
    "    sums = np.matrix(np.zeros(centroids.shape))\n",
    "    count = np.zeros(len(centroids),dtype=int)\n",
    "    newCentroids = np.matrix(np.zeros(centroids.shape))\n",
    "    for i in range(len(X)):\n",
    "        for j in range(nof):\n",
    "            sums[clusters[i],j]+=X[i,j]\n",
    "        count[clusters[i]]+=1\n",
    "    for i in range(len(centroids)):\n",
    "        newCentroids[i,:] = sums[i,:]/count[i]\n",
    "    return newCentroids"
   ]
  },
  {
   "cell_type": "markdown",
   "metadata": {},
   "source": [
    " _K-Means_ Algorithm<br>\n",
    " The following steps are followed until convergence or for specified number of iterations.<br>\n",
    "1. Cluster Assignment : Assign every point to its nearest centroid (_clusterAssignment_ function).\n",
    "2. Update the Centroids : Compute the mean of each cluster and update it as the new centroid. (_updateCentroid_ function).    "
   ]
  },
  {
   "cell_type": "code",
   "execution_count": 23,
   "metadata": {},
   "outputs": [],
   "source": [
    "def kmeans_call(X,clusters,centroids,iterations,nof): \n",
    "    for i in range(iterations):\n",
    "        clusters = clusterAssignment(X,clusters,centroids)\n",
    "        new_centroids = updateCentroid(X,clusters,centroids,nof)     \n",
    "        centroids = new_centroids\n",
    "        \n",
    "    return centroids,clusters    "
   ]
  },
  {
   "cell_type": "code",
   "execution_count": 24,
   "metadata": {},
   "outputs": [],
   "source": [
    "number_of_samples = 200\n",
    "number_of_iterations = 100\n",
    "number_of_features = 5"
   ]
  },
  {
   "cell_type": "markdown",
   "metadata": {},
   "source": [
    "### Calculating optimum value of K\n",
    "Plot the graphs for different values of K to obtain the optimum value of K using the elbow curve"
   ]
  },
  {
   "cell_type": "code",
   "execution_count": 25,
   "metadata": {},
   "outputs": [
    {
     "name": "stdout",
     "output_type": "stream",
     "text": [
      "[453.23687512 356.26294    258.10753626 220.07083525]\n"
     ]
    },
    {
     "data": {
      "image/png": "[encoded data removed]",
      "text/plain": [
       "<Figure size 432x288 with 1 Axes>"
      ]
     },
     "metadata": {
      "needs_background": "light"
     },
     "output_type": "display_data"
    }
   ],
   "source": [
    "plt.figure()\n",
    "k=[2,3,4,5]\n",
    "\n",
    "s=np.zeros(len(k))\n",
    "for j in range(len(k)):\n",
    "    centroids = randomInit(X,k[j],number_of_samples,number_of_features)\n",
    "    clusters = np.zeros(len(X),dtype=int)\n",
    "    (finalCentroids,finalClusters) = kmeans_call(X,clusters,centroids,number_of_iterations,number_of_features)\n",
    "    for i in range(len(X)):\n",
    "        s[j]+=np.sum(np.power(X[i,:]-finalCentroids[finalClusters[i],:],2))\n",
    "print(s)    \n",
    "plt.plot(s,k)\n",
    "plt.show()"
   ]
  },
  {
   "cell_type": "code",
   "execution_count": 26,
   "metadata": {},
   "outputs": [],
   "source": [
    "number_of_clusters = 4"
   ]
  },
  {
   "cell_type": "code",
   "execution_count": 27,
   "metadata": {},
   "outputs": [],
   "source": [
    "centroids = randomInit(X,number_of_clusters,number_of_samples,number_of_features) \n",
    "clusters = np.zeros(len(X),dtype=int)"
   ]
  },
  {
   "cell_type": "code",
   "execution_count": 28,
   "metadata": {},
   "outputs": [],
   "source": [
    "(finalCentroids,finalClusters) = kmeans_call(X,clusters,centroids,number_of_iterations,number_of_features)"
   ]
  },
  {
   "cell_type": "code",
   "execution_count": 29,
   "metadata": {},
   "outputs": [
    {
     "name": "stdout",
     "output_type": "stream",
     "text": [
      "[[ 0.81        0.53846154 -0.44081102  0.98910098  1.23640011]\n",
      " [ 0.5885      0.5375      0.80803881  0.3113492  -0.51551838]\n",
      " [ 0.12452381  0.61904762  0.59366116 -1.26688136 -1.20266876]\n",
      " [ 0.32025     0.58333333 -0.99863932 -0.61463943  0.30463183]] [3 3 2 3 3 3 2 3 2 3 2 3 2 3 2 3 2 3 2 3 2 3 2 3 2 3 2 3 2 3 2 3 2 3 2 3 2\n",
      " 3 2 3 2 3 2 3 2 3 1 3 3 3 1 3 3 1 1 1 1 1 3 1 1 3 1 1 1 3 1 1 3 3 1 1 1 1\n",
      " 1 3 1 1 3 1 1 3 1 1 3 1 1 3 3 1 1 3 1 1 3 3 1 3 1 3 3 1 1 3 1 3 1 1 1 1 1\n",
      " 3 1 3 3 3 1 1 1 1 3 1 1 0 3 0 1 0 1 0 1 0 3 0 3 0 1 0 3 0 1 0 3 0 1 0 1 0\n",
      " 1 0 1 0 1 0 1 0 1 0 1 0 1 0 3 0 1 0 1 0 1 0 1 0 1 0 1 0 1 0 1 0 1 0 1 0 1\n",
      " 0 1 0 1 0 1 0 1 0 1 0 1 0 1 0] 4 200\n"
     ]
    }
   ],
   "source": [
    "print(finalCentroids,finalClusters, len(finalCentroids),len(finalClusters))"
   ]
  }
 ],
 "metadata": {
  "kernelspec": {
   "display_name": "Python 2",
   "language": "python",
   "name": "python2"
  },
  "language_info": {
   "codemirror_mode": {
    "name": "ipython",
    "version": 3
   },
   "file_extension": ".py",
   "mimetype": "text/x-python",
   "name": "python",
   "nbconvert_exporter": "python",
   "pygments_lexer": "ipython3",
   "version": "3.6.7"
  }
 },
 "nbformat": 4,
 "nbformat_minor": 2
}
